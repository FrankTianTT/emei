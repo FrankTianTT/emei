{
 "cells": [
  {
   "cell_type": "code",
   "execution_count": 1,
   "metadata": {
    "collapsed": true
   },
   "outputs": [],
   "source": [
    "from sympy import symbols, diff, sin, cos, simplify, nsimplify, solve\n",
    "\n",
    "from lagrange_eqs import cartpole, get_canonical_diff_equations\n",
    "from sympy.physics.vector.printing import vlatex\n",
    "from IPython.display import display, Latex"
   ]
  },
  {
   "cell_type": "code",
   "execution_count": null,
   "outputs": [],
   "source": [
    "def show_latex(s):\n",
    "    display(Latex(\"$${}$$\".format(vlatex(nsimplify(s)))))"
   ],
   "metadata": {
    "collapsed": false,
    "pycharm": {
     "name": "#%%\n",
     "is_executing": true
    }
   }
  },
  {
   "cell_type": "code",
   "execution_count": null,
   "outputs": [],
   "source": [
    "lag_eqs, dyna_syms = cartpole(1)\n",
    "for eq in lag_eqs:\n",
    "    show_latex(eq)\n",
    "diff_eqs = get_canonical_diff_equations(lag_eqs, dyna_syms)\n",
    "for eq in diff_eqs:\n",
    "    show_latex(eq)"
   ],
   "metadata": {
    "collapsed": false,
    "pycharm": {
     "name": "#%%\n",
     "is_executing": true
    }
   }
  }
 ],
 "metadata": {
  "kernelspec": {
   "display_name": "Python 3",
   "language": "python",
   "name": "python3"
  },
  "language_info": {
   "codemirror_mode": {
    "name": "ipython",
    "version": 2
   },
   "file_extension": ".py",
   "mimetype": "text/x-python",
   "name": "python",
   "nbconvert_exporter": "python",
   "pygments_lexer": "ipython2",
   "version": "2.7.6"
  }
 },
 "nbformat": 4,
 "nbformat_minor": 0
}